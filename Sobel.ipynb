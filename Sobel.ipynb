{
  "nbformat": 4,
  "nbformat_minor": 0,
  "metadata": {
    "colab": {
      "provenance": []
    },
    "kernelspec": {
      "name": "python3",
      "display_name": "Python 3"
    },
    "language_info": {
      "name": "python"
    }
  },
  "cells": [
    {
      "cell_type": "code",
      "execution_count": null,
      "metadata": {
        "id": "ng271_0qcltZ"
      },
      "outputs": [],
      "source": [
        "\n",
        "from urllib.request import urlretrieve\n",
        "url = \"https://github.com/Elwing-Chou/tibaml0315/raw/main/bg%20morning.png\"\n",
        "urlretrieve(url, \"test.png\")\n",
        "     "
      ]
    },
    {
      "cell_type": "code",
      "source": [
        "import numpy as np\n",
        "from PIL import Image\n",
        "img = Image.open(\"test.png\").convert(\"L\")\n",
        "img_np = np.array(img)\n",
        "img"
      ],
      "metadata": {
        "id": "_N60ZndVcn2O"
      },
      "execution_count": null,
      "outputs": []
    },
    {
      "cell_type": "code",
      "source": [
        "img_np.shape"
      ],
      "metadata": {
        "id": "udXtHPXpcn40"
      },
      "execution_count": null,
      "outputs": []
    },
    {
      "cell_type": "code",
      "source": [
        "\n",
        "# Gx\n",
        "Gx = [\n",
        "    [1, 0, -1],\n",
        "    [2, 0, -2],\n",
        "    [1, 0, -1]\n",
        "]\n",
        "\n",
        "def combine(img, ci, cj, g):\n",
        "    # ci, cj: center -1: top left\n",
        "    si, sj = ci-1, cj-1\n",
        "    total = 0.0\n",
        "    for i in range(3):\n",
        "        for j in range(3):\n",
        "            total = total + img[si+i][sj+j] * g[i][j]\n",
        "    return abs(total)\n",
        "\n",
        "\n",
        "img_gx = np.zeros(img_np.shape)\n",
        "h, w = img_np.shape\n",
        "for i in range(1, h-1):\n",
        "    for j in range(1, w-1):\n",
        "        img_gx[i][j] = combine(img_np, i, j, Gx)"
      ],
      "metadata": {
        "id": "cv7TD3Sbcn-O"
      },
      "execution_count": null,
      "outputs": []
    },
    {
      "cell_type": "code",
      "source": [
        "\n",
        "import matplotlib.pyplot as plt\n",
        "\n",
        "# 0~255(ok) 0.0~1.0(ok)\n",
        "# 0~1: (pi - min) / (max - min)\n",
        "ma = img_gx.max()\n",
        "mi = img_gx.min()\n",
        "img_norm = (img_gx - mi) / (ma - mi)\n",
        "plt.imshow(img_norm)\n",
        "     \n"
      ],
      "metadata": {
        "id": "Dr6t7Y0tcoAW"
      },
      "execution_count": null,
      "outputs": []
    },
    {
      "cell_type": "code",
      "source": [
        "\n",
        "# Gy\n",
        "Gy = [\n",
        "    [1, 2, 1],\n",
        "    [0, 0, 0],\n",
        "    [-1, -2, -1]\n",
        "]\n",
        "\n",
        "\n",
        "img_gy = np.zeros(img_np.shape)\n",
        "h, w = img_np.shape\n",
        "for i in range(1, h-1):\n",
        "    for j in range(1, w-1):\n",
        "        img_gy[i][j] = combine(img_np, i, j, Gy)\n",
        "\n",
        "ma = img_gy.max()\n",
        "mi = img_gy.min()\n",
        "img_norm = (img_gy - mi) / (ma - mi)\n",
        "plt.imshow(img_norm)"
      ],
      "metadata": {
        "id": "i3yf-h46coCP"
      },
      "execution_count": null,
      "outputs": []
    },
    {
      "cell_type": "code",
      "source": [
        "\n",
        "img_g = (img_gx ** 2 + img_gy ** 2) ** 0.5\n",
        "ma = img_g.max()\n",
        "mi = img_g.min()\n",
        "img_norm = (img_g - mi) / (ma - mi)\n",
        "plt.imshow(img_norm)"
      ],
      "metadata": {
        "id": "KW0UZDyadEWb"
      },
      "execution_count": null,
      "outputs": []
    },
    {
      "cell_type": "code",
      "source": [
        "# np array的操作: 對於每一個軸都進行一個list操作\n",
        "img = Image.open(\"test.png\").convert(\"RGB\")\n",
        "img_np = np.array(img)\n",
        "# 左右相反: plt.imshow(img_np[:, ::-1, :])\n",
        "# 上下相反: plt.imshow(img_np[::-1, :, :])\n",
        "# 200, 400: plt.imshow(img_np[:200, :400, :])\n",
        "r, g, b = img_np[:,:,0], img_np[:,:,1], img_np[:,:,2]\n",
        "gray = r * 0.299 + g * 0.587 + b * 0.114\n",
        "plt.imshow(gray, cmap=\"gray\")"
      ],
      "metadata": {
        "id": "P2AseURydEZf"
      },
      "execution_count": null,
      "outputs": []
    },
    {
      "cell_type": "code",
      "source": [
        "#圖圖片模糊化\n",
        "# Gx\n",
        "Avg = [\n",
        "    [1, 1, 1],\n",
        "    [1, 1, 1],\n",
        "    [1, 1, 1]\n",
        "]\n",
        "\n",
        "def combine(img, ci, cj, g):\n",
        "    # ci, cj: center -1: top left\n",
        "    si, sj = ci-1, cj-1\n",
        "    total = 0.0\n",
        "    for i in range(3):\n",
        "        for j in range(3):\n",
        "            total = total + img[si+i][sj+j] * g[i][j]\n",
        "    return abs(total)\n",
        "\n",
        "avg = np.zeros(img_np.shape)\n",
        "h, w = img_np.shape\n",
        "for i in range(1, h-1):\n",
        "    for j in range(1, w-1):\n",
        "        avg[i][j] = combine(img_np, i, j, Avg)"
      ],
      "metadata": {
        "id": "GGMQJwfxdEel"
      },
      "execution_count": null,
      "outputs": []
    },
    {
      "cell_type": "code",
      "source": [
        "\n",
        "plt.imshow(img_np, cmap=\"gray\")\n",
        "Image.frombytes(\"L\", img_np.shape[::-1], img_np).save(\"original.png\")\n",
        "     "
      ],
      "metadata": {
        "id": "Jec5g09rdTfX"
      },
      "execution_count": null,
      "outputs": []
    }
  ]
}